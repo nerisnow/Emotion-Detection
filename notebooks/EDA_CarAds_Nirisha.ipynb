{
  "nbformat": 4,
  "nbformat_minor": 0,
  "metadata": {
    "kernelspec": {
      "display_name": "Python 3",
      "language": "python",
      "name": "python3"
    },
    "language_info": {
      "codemirror_mode": {
        "name": "ipython",
        "version": 3
      },
      "file_extension": ".py",
      "mimetype": "text/x-python",
      "name": "python",
      "nbconvert_exporter": "python",
      "pygments_lexer": "ipython3",
      "version": "3.8.0"
    },
    "colab": {
      "name": "carads_eda (1).ipynb",
      "provenance": []
    },
    "accelerator": "GPU"
  },
  "cells": [
    {
      "cell_type": "markdown",
      "metadata": {
        "id": "RezOHp9BpYhJ"
      },
      "source": [
        "# **Car Ads Exploratory Data Analysis**"
      ]
    },
    {
      "source": [
        "## Importing Necessary Libraries"
      ],
      "cell_type": "markdown",
      "metadata": {}
    },
    {
      "cell_type": "code",
      "metadata": {
        "id": "5nz5CpobW4EM"
      },
      "source": [
        "#necessary imports\n",
        "import numpy as np\n",
        "import pandas as pd\n",
        "from pandas_profiling import ProfileReport\n",
        "\n",
        "import matplotlib.pyplot as plt\n",
        "import seaborn as sns"
      ],
      "execution_count": 1,
      "outputs": []
    },
    {
      "cell_type": "code",
      "metadata": {
        "id": "QHLpHaVaW4EZ"
      },
      "source": [
        "import warnings\n",
        "\n",
        "warnings.filterwarnings(\"ignore\")"
      ],
      "execution_count": 2,
      "outputs": []
    },
    {
      "cell_type": "code",
      "metadata": {
        "colab": {
          "base_uri": "https://localhost:8080/"
        },
        "id": "-dytdQsyXsiQ",
        "outputId": "7e448db9-823b-4829-dfce-53761c4f2469"
      },
      "source": [
        "#mount google drive\n",
        "from google.colab import drive\n",
        "\n",
        "drive.mount('/content/gdrive')"
      ],
      "execution_count": 3,
      "outputs": [
        {
          "output_type": "stream",
          "text": [
            "Drive already mounted at /content/gdrive; to attempt to forcibly remount, call drive.mount(\"/content/gdrive\", force_remount=True).\n"
          ],
          "name": "stdout"
        }
      ]
    },
    {
      "cell_type": "markdown",
      "metadata": {
        "id": "gDSrqKnupnu5"
      },
      "source": [
        "## Loading data"
      ]
    },
    {
      "cell_type": "code",
      "metadata": {
        "colab": {
          "base_uri": "https://localhost:8080/",
          "height": 289
        },
        "id": "AssK4xkKW4EZ",
        "outputId": "cc381659-c6e5-4ae7-e42a-8545b4d5811e"
      },
      "source": [
        "#loading the csv data\n",
        "data = pd.read_csv('/content/gdrive/MyDrive/data (1).csv')\n",
        "data.head()"
      ],
      "execution_count": 4,
      "outputs": [
        {
          "output_type": "execute_result",
          "data": {
            "text/html": [
              "<div>\n",
              "<style scoped>\n",
              "    .dataframe tbody tr th:only-of-type {\n",
              "        vertical-align: middle;\n",
              "    }\n",
              "\n",
              "    .dataframe tbody tr th {\n",
              "        vertical-align: top;\n",
              "    }\n",
              "\n",
              "    .dataframe thead th {\n",
              "        text-align: right;\n",
              "    }\n",
              "</style>\n",
              "<table border=\"1\" class=\"dataframe\">\n",
              "  <thead>\n",
              "    <tr style=\"text-align: right;\">\n",
              "      <th></th>\n",
              "      <th>maker</th>\n",
              "      <th>model</th>\n",
              "      <th>mileage</th>\n",
              "      <th>manufacture_year</th>\n",
              "      <th>engine_displacement</th>\n",
              "      <th>engine_power</th>\n",
              "      <th>body_type</th>\n",
              "      <th>color_slug</th>\n",
              "      <th>stk_year</th>\n",
              "      <th>transmission</th>\n",
              "      <th>door_count</th>\n",
              "      <th>seat_count</th>\n",
              "      <th>fuel_type</th>\n",
              "      <th>date_created</th>\n",
              "      <th>date_last_seen</th>\n",
              "      <th>price_eur</th>\n",
              "    </tr>\n",
              "  </thead>\n",
              "  <tbody>\n",
              "    <tr>\n",
              "      <th>0</th>\n",
              "      <td>ford</td>\n",
              "      <td>galaxy</td>\n",
              "      <td>151000.0</td>\n",
              "      <td>2011.0</td>\n",
              "      <td>2000.0</td>\n",
              "      <td>103.0</td>\n",
              "      <td>NaN</td>\n",
              "      <td>NaN</td>\n",
              "      <td>None</td>\n",
              "      <td>man</td>\n",
              "      <td>5</td>\n",
              "      <td>7</td>\n",
              "      <td>diesel</td>\n",
              "      <td>2015-11-14 18:10:06.838319+00</td>\n",
              "      <td>2016-01-27 20:40:15.46361+00</td>\n",
              "      <td>10584.75</td>\n",
              "    </tr>\n",
              "    <tr>\n",
              "      <th>1</th>\n",
              "      <td>skoda</td>\n",
              "      <td>octavia</td>\n",
              "      <td>143476.0</td>\n",
              "      <td>2012.0</td>\n",
              "      <td>2000.0</td>\n",
              "      <td>81.0</td>\n",
              "      <td>NaN</td>\n",
              "      <td>NaN</td>\n",
              "      <td>None</td>\n",
              "      <td>man</td>\n",
              "      <td>5</td>\n",
              "      <td>5</td>\n",
              "      <td>diesel</td>\n",
              "      <td>2015-11-14 18:10:06.853411+00</td>\n",
              "      <td>2016-01-27 20:40:15.46361+00</td>\n",
              "      <td>8882.31</td>\n",
              "    </tr>\n",
              "    <tr>\n",
              "      <th>2</th>\n",
              "      <td>bmw</td>\n",
              "      <td>NaN</td>\n",
              "      <td>97676.0</td>\n",
              "      <td>2010.0</td>\n",
              "      <td>1995.0</td>\n",
              "      <td>85.0</td>\n",
              "      <td>NaN</td>\n",
              "      <td>NaN</td>\n",
              "      <td>None</td>\n",
              "      <td>man</td>\n",
              "      <td>5</td>\n",
              "      <td>5</td>\n",
              "      <td>diesel</td>\n",
              "      <td>2015-11-14 18:10:06.861792+00</td>\n",
              "      <td>2016-01-27 20:40:15.46361+00</td>\n",
              "      <td>12065.06</td>\n",
              "    </tr>\n",
              "    <tr>\n",
              "      <th>3</th>\n",
              "      <td>skoda</td>\n",
              "      <td>fabia</td>\n",
              "      <td>111970.0</td>\n",
              "      <td>2004.0</td>\n",
              "      <td>1200.0</td>\n",
              "      <td>47.0</td>\n",
              "      <td>NaN</td>\n",
              "      <td>NaN</td>\n",
              "      <td>None</td>\n",
              "      <td>man</td>\n",
              "      <td>5</td>\n",
              "      <td>5</td>\n",
              "      <td>gasoline</td>\n",
              "      <td>2015-11-14 18:10:06.872313+00</td>\n",
              "      <td>2016-01-27 20:40:15.46361+00</td>\n",
              "      <td>2960.77</td>\n",
              "    </tr>\n",
              "    <tr>\n",
              "      <th>4</th>\n",
              "      <td>skoda</td>\n",
              "      <td>fabia</td>\n",
              "      <td>128886.0</td>\n",
              "      <td>2004.0</td>\n",
              "      <td>1200.0</td>\n",
              "      <td>47.0</td>\n",
              "      <td>NaN</td>\n",
              "      <td>NaN</td>\n",
              "      <td>None</td>\n",
              "      <td>man</td>\n",
              "      <td>5</td>\n",
              "      <td>5</td>\n",
              "      <td>gasoline</td>\n",
              "      <td>2015-11-14 18:10:06.880335+00</td>\n",
              "      <td>2016-01-27 20:40:15.46361+00</td>\n",
              "      <td>2738.71</td>\n",
              "    </tr>\n",
              "  </tbody>\n",
              "</table>\n",
              "</div>"
            ],
            "text/plain": [
              "   maker    model  ...                date_last_seen  price_eur\n",
              "0   ford   galaxy  ...  2016-01-27 20:40:15.46361+00   10584.75\n",
              "1  skoda  octavia  ...  2016-01-27 20:40:15.46361+00    8882.31\n",
              "2    bmw      NaN  ...  2016-01-27 20:40:15.46361+00   12065.06\n",
              "3  skoda    fabia  ...  2016-01-27 20:40:15.46361+00    2960.77\n",
              "4  skoda    fabia  ...  2016-01-27 20:40:15.46361+00    2738.71\n",
              "\n",
              "[5 rows x 16 columns]"
            ]
          },
          "metadata": {
            "tags": []
          },
          "execution_count": 4
        }
      ]
    },
    {
      "cell_type": "code",
      "metadata": {
        "colab": {
          "base_uri": "https://localhost:8080/"
        },
        "id": "W0InhVz9W4Eb",
        "outputId": "73c3c361-f292-44e9-c399-52f42c9ae2a0"
      },
      "source": [
        "#no.of rows and columns\n",
        "print(\"Number of rows =\",data.shape[0])\n",
        "print(\"Number of columns =\",data.shape[1])"
      ],
      "execution_count": 5,
      "outputs": [
        {
          "output_type": "stream",
          "text": [
            "Number of rows = 3552912\n",
            "Number of columns = 16\n"
          ],
          "name": "stdout"
        }
      ]
    },
    {
      "cell_type": "code",
      "metadata": {
        "scrolled": true,
        "colab": {
          "base_uri": "https://localhost:8080/"
        },
        "id": "D6DbwWbRW4Eb",
        "outputId": "67cd89a3-2b84-4fa7-de5e-179b1aabc864"
      },
      "source": [
        "#column names\n",
        "columns = list(data.keys())\n",
        "print(\"Columns :\", columns)"
      ],
      "execution_count": 6,
      "outputs": [
        {
          "output_type": "stream",
          "text": [
            "Columns : ['maker', 'model', 'mileage', 'manufacture_year', 'engine_displacement', 'engine_power', 'body_type', 'color_slug', 'stk_year', 'transmission', 'door_count', 'seat_count', 'fuel_type', 'date_created', 'date_last_seen', 'price_eur']\n"
          ],
          "name": "stdout"
        }
      ]
    },
    {
      "cell_type": "code",
      "metadata": {
        "colab": {
          "base_uri": "https://localhost:8080/"
        },
        "id": "JBYQD4cVW4Ec",
        "outputId": "d3f52393-3f01-4ab3-c526-b0abca5b8144"
      },
      "source": [
        "#column datatypes\n",
        "data.info()"
      ],
      "execution_count": 7,
      "outputs": [
        {
          "output_type": "stream",
          "text": [
            "<class 'pandas.core.frame.DataFrame'>\n",
            "RangeIndex: 3552912 entries, 0 to 3552911\n",
            "Data columns (total 16 columns):\n",
            " #   Column               Dtype  \n",
            "---  ------               -----  \n",
            " 0   maker                object \n",
            " 1   model                object \n",
            " 2   mileage              float64\n",
            " 3   manufacture_year     float64\n",
            " 4   engine_displacement  float64\n",
            " 5   engine_power         float64\n",
            " 6   body_type            object \n",
            " 7   color_slug           object \n",
            " 8   stk_year             object \n",
            " 9   transmission         object \n",
            " 10  door_count           object \n",
            " 11  seat_count           object \n",
            " 12  fuel_type            object \n",
            " 13  date_created         object \n",
            " 14  date_last_seen       object \n",
            " 15  price_eur            float64\n",
            "dtypes: float64(5), object(11)\n",
            "memory usage: 433.7+ MB\n"
          ],
          "name": "stdout"
        }
      ]
    },
    {
      "cell_type": "code",
      "metadata": {
        "colab": {
          "base_uri": "https://localhost:8080/",
          "height": 297
        },
        "id": "Si2iJPvLW4Ec",
        "outputId": "42c791ea-871a-40a0-a857-f35c0b4ff7d1"
      },
      "source": [
        "#statistics for numerical columns\n",
        "data.describe()"
      ],
      "execution_count": 8,
      "outputs": [
        {
          "output_type": "execute_result",
          "data": {
            "text/html": [
              "<div>\n",
              "<style scoped>\n",
              "    .dataframe tbody tr th:only-of-type {\n",
              "        vertical-align: middle;\n",
              "    }\n",
              "\n",
              "    .dataframe tbody tr th {\n",
              "        vertical-align: top;\n",
              "    }\n",
              "\n",
              "    .dataframe thead th {\n",
              "        text-align: right;\n",
              "    }\n",
              "</style>\n",
              "<table border=\"1\" class=\"dataframe\">\n",
              "  <thead>\n",
              "    <tr style=\"text-align: right;\">\n",
              "      <th></th>\n",
              "      <th>mileage</th>\n",
              "      <th>manufacture_year</th>\n",
              "      <th>engine_displacement</th>\n",
              "      <th>engine_power</th>\n",
              "      <th>price_eur</th>\n",
              "    </tr>\n",
              "  </thead>\n",
              "  <tbody>\n",
              "    <tr>\n",
              "      <th>count</th>\n",
              "      <td>3.190328e+06</td>\n",
              "      <td>3.182334e+06</td>\n",
              "      <td>2.809498e+06</td>\n",
              "      <td>2.998035e+06</td>\n",
              "      <td>3.552912e+06</td>\n",
              "    </tr>\n",
              "    <tr>\n",
              "      <th>mean</th>\n",
              "      <td>1.158140e+05</td>\n",
              "      <td>2.000871e+03</td>\n",
              "      <td>2.043958e+03</td>\n",
              "      <td>9.846796e+01</td>\n",
              "      <td>1.625812e+06</td>\n",
              "    </tr>\n",
              "    <tr>\n",
              "      <th>std</th>\n",
              "      <td>3.422508e+05</td>\n",
              "      <td>8.172588e+01</td>\n",
              "      <td>1.973958e+03</td>\n",
              "      <td>4.907309e+01</td>\n",
              "      <td>2.025622e+09</td>\n",
              "    </tr>\n",
              "    <tr>\n",
              "      <th>min</th>\n",
              "      <td>0.000000e+00</td>\n",
              "      <td>0.000000e+00</td>\n",
              "      <td>0.000000e+00</td>\n",
              "      <td>1.000000e+00</td>\n",
              "      <td>4.000000e-02</td>\n",
              "    </tr>\n",
              "    <tr>\n",
              "      <th>25%</th>\n",
              "      <td>1.880000e+04</td>\n",
              "      <td>2.004000e+03</td>\n",
              "      <td>1.400000e+03</td>\n",
              "      <td>6.800000e+01</td>\n",
              "      <td>1.295340e+03</td>\n",
              "    </tr>\n",
              "    <tr>\n",
              "      <th>50%</th>\n",
              "      <td>8.641500e+04</td>\n",
              "      <td>2.009000e+03</td>\n",
              "      <td>1.798000e+03</td>\n",
              "      <td>8.600000e+01</td>\n",
              "      <td>7.364910e+03</td>\n",
              "    </tr>\n",
              "    <tr>\n",
              "      <th>75%</th>\n",
              "      <td>1.580250e+05</td>\n",
              "      <td>2.013000e+03</td>\n",
              "      <td>1.997000e+03</td>\n",
              "      <td>1.100000e+02</td>\n",
              "      <td>1.628423e+04</td>\n",
              "    </tr>\n",
              "    <tr>\n",
              "      <th>max</th>\n",
              "      <td>9.999999e+06</td>\n",
              "      <td>2.017000e+03</td>\n",
              "      <td>3.276700e+04</td>\n",
              "      <td>2.237000e+03</td>\n",
              "      <td>2.706149e+12</td>\n",
              "    </tr>\n",
              "  </tbody>\n",
              "</table>\n",
              "</div>"
            ],
            "text/plain": [
              "            mileage  manufacture_year  ...  engine_power     price_eur\n",
              "count  3.190328e+06      3.182334e+06  ...  2.998035e+06  3.552912e+06\n",
              "mean   1.158140e+05      2.000871e+03  ...  9.846796e+01  1.625812e+06\n",
              "std    3.422508e+05      8.172588e+01  ...  4.907309e+01  2.025622e+09\n",
              "min    0.000000e+00      0.000000e+00  ...  1.000000e+00  4.000000e-02\n",
              "25%    1.880000e+04      2.004000e+03  ...  6.800000e+01  1.295340e+03\n",
              "50%    8.641500e+04      2.009000e+03  ...  8.600000e+01  7.364910e+03\n",
              "75%    1.580250e+05      2.013000e+03  ...  1.100000e+02  1.628423e+04\n",
              "max    9.999999e+06      2.017000e+03  ...  2.237000e+03  2.706149e+12\n",
              "\n",
              "[8 rows x 5 columns]"
            ]
          },
          "metadata": {
            "tags": []
          },
          "execution_count": 8
        }
      ]
    },
    {
      "cell_type": "markdown",
      "metadata": {
        "id": "2zpxOr8Vps47"
      },
      "source": [
        "## Missing Values Identification and Filtering"
      ]
    },
    {
      "cell_type": "code",
      "metadata": {
        "colab": {
          "base_uri": "https://localhost:8080/"
        },
        "id": "yoREuAGvW4Ed",
        "outputId": "4d0e762c-ed23-42ae-b080-dbff255bb204"
      },
      "source": [
        "#checking null data entries per column\n",
        "data.isnull().sum()"
      ],
      "execution_count": 9,
      "outputs": [
        {
          "output_type": "execute_result",
          "data": {
            "text/plain": [
              "maker                   518915\n",
              "model                  1133361\n",
              "mileage                 362584\n",
              "manufacture_year        370578\n",
              "engine_displacement     743414\n",
              "engine_power            554877\n",
              "body_type              1122914\n",
              "color_slug             3343411\n",
              "stk_year               1708156\n",
              "transmission            741630\n",
              "door_count              614373\n",
              "seat_count              749489\n",
              "fuel_type              1847606\n",
              "date_created                 0\n",
              "date_last_seen               0\n",
              "price_eur                    0\n",
              "dtype: int64"
            ]
          },
          "metadata": {
            "tags": []
          },
          "execution_count": 9
        }
      ]
    },
    {
      "cell_type": "code",
      "metadata": {
        "colab": {
          "base_uri": "https://localhost:8080/"
        },
        "id": "7KXPy2f_W4Ed",
        "outputId": "49f4af5e-3df0-4288-d2f1-32e366eb6ae3"
      },
      "source": [
        "#percentage of null data per column\n",
        "null_percent = (data.isnull().sum())/len(data) * 100\n",
        "print(null_percent)"
      ],
      "execution_count": 10,
      "outputs": [
        {
          "output_type": "stream",
          "text": [
            "maker                  14.605343\n",
            "model                  31.899495\n",
            "mileage                10.205263\n",
            "manufacture_year       10.430261\n",
            "engine_displacement    20.924076\n",
            "engine_power           15.617527\n",
            "body_type              31.605455\n",
            "color_slug             94.103400\n",
            "stk_year               48.077633\n",
            "transmission           20.873863\n",
            "door_count             17.292097\n",
            "seat_count             21.095062\n",
            "fuel_type              52.002583\n",
            "date_created            0.000000\n",
            "date_last_seen          0.000000\n",
            "price_eur               0.000000\n",
            "dtype: float64\n"
          ],
          "name": "stdout"
        }
      ]
    },
    {
      "cell_type": "code",
      "metadata": {
        "colab": {
          "base_uri": "https://localhost:8080/"
        },
        "id": "j2o52H3jW4Ee",
        "outputId": "f666daa7-1e71-4b41-8db6-2f571da6fe76"
      },
      "source": [
        "#checking columns with more than 40% missing data\n",
        "null_percent > 40.0"
      ],
      "execution_count": 11,
      "outputs": [
        {
          "output_type": "execute_result",
          "data": {
            "text/plain": [
              "maker                  False\n",
              "model                  False\n",
              "mileage                False\n",
              "manufacture_year       False\n",
              "engine_displacement    False\n",
              "engine_power           False\n",
              "body_type              False\n",
              "color_slug              True\n",
              "stk_year                True\n",
              "transmission           False\n",
              "door_count             False\n",
              "seat_count             False\n",
              "fuel_type               True\n",
              "date_created           False\n",
              "date_last_seen         False\n",
              "price_eur              False\n",
              "dtype: bool"
            ]
          },
          "metadata": {
            "tags": []
          },
          "execution_count": 11
        }
      ]
    },
    {
      "cell_type": "code",
      "metadata": {
        "colab": {
          "base_uri": "https://localhost:8080/"
        },
        "id": "5D_iB4VIW4Ee",
        "outputId": "03abb60d-0fca-4f29-97de-0696d579af60"
      },
      "source": [
        "#removing columns with more than 40% missing data\n",
        "data = data.loc[:, null_percent < 40]\n",
        "data.info()"
      ],
      "execution_count": 12,
      "outputs": [
        {
          "output_type": "stream",
          "text": [
            "<class 'pandas.core.frame.DataFrame'>\n",
            "RangeIndex: 3552912 entries, 0 to 3552911\n",
            "Data columns (total 13 columns):\n",
            " #   Column               Dtype  \n",
            "---  ------               -----  \n",
            " 0   maker                object \n",
            " 1   model                object \n",
            " 2   mileage              float64\n",
            " 3   manufacture_year     float64\n",
            " 4   engine_displacement  float64\n",
            " 5   engine_power         float64\n",
            " 6   body_type            object \n",
            " 7   transmission         object \n",
            " 8   door_count           object \n",
            " 9   seat_count           object \n",
            " 10  date_created         object \n",
            " 11  date_last_seen       object \n",
            " 12  price_eur            float64\n",
            "dtypes: float64(5), object(8)\n",
            "memory usage: 352.4+ MB\n"
          ],
          "name": "stdout"
        }
      ]
    },
    {
      "cell_type": "markdown",
      "metadata": {
        "id": "xeq0xUL4p5yd"
      },
      "source": [
        "## Unncessary Columns Removal"
      ]
    },
    {
      "cell_type": "code",
      "metadata": {
        "id": "7Dju7dIqW4Ef"
      },
      "source": [
        "#removing redundant and unnecessary columns\n",
        "data = data.drop(['date_created', 'date_last_seen'], axis=1)"
      ],
      "execution_count": 13,
      "outputs": []
    },
    {
      "cell_type": "code",
      "metadata": {
        "colab": {
          "base_uri": "https://localhost:8080/",
          "height": 204
        },
        "id": "X9c8LADAW4Ef",
        "outputId": "8bf588d5-2845-4f81-a593-ab3d8eca19d0"
      },
      "source": [
        "data.head()"
      ],
      "execution_count": 14,
      "outputs": [
        {
          "output_type": "execute_result",
          "data": {
            "text/html": [
              "<div>\n",
              "<style scoped>\n",
              "    .dataframe tbody tr th:only-of-type {\n",
              "        vertical-align: middle;\n",
              "    }\n",
              "\n",
              "    .dataframe tbody tr th {\n",
              "        vertical-align: top;\n",
              "    }\n",
              "\n",
              "    .dataframe thead th {\n",
              "        text-align: right;\n",
              "    }\n",
              "</style>\n",
              "<table border=\"1\" class=\"dataframe\">\n",
              "  <thead>\n",
              "    <tr style=\"text-align: right;\">\n",
              "      <th></th>\n",
              "      <th>maker</th>\n",
              "      <th>model</th>\n",
              "      <th>mileage</th>\n",
              "      <th>manufacture_year</th>\n",
              "      <th>engine_displacement</th>\n",
              "      <th>engine_power</th>\n",
              "      <th>body_type</th>\n",
              "      <th>transmission</th>\n",
              "      <th>door_count</th>\n",
              "      <th>seat_count</th>\n",
              "      <th>price_eur</th>\n",
              "    </tr>\n",
              "  </thead>\n",
              "  <tbody>\n",
              "    <tr>\n",
              "      <th>0</th>\n",
              "      <td>ford</td>\n",
              "      <td>galaxy</td>\n",
              "      <td>151000.0</td>\n",
              "      <td>2011.0</td>\n",
              "      <td>2000.0</td>\n",
              "      <td>103.0</td>\n",
              "      <td>NaN</td>\n",
              "      <td>man</td>\n",
              "      <td>5</td>\n",
              "      <td>7</td>\n",
              "      <td>10584.75</td>\n",
              "    </tr>\n",
              "    <tr>\n",
              "      <th>1</th>\n",
              "      <td>skoda</td>\n",
              "      <td>octavia</td>\n",
              "      <td>143476.0</td>\n",
              "      <td>2012.0</td>\n",
              "      <td>2000.0</td>\n",
              "      <td>81.0</td>\n",
              "      <td>NaN</td>\n",
              "      <td>man</td>\n",
              "      <td>5</td>\n",
              "      <td>5</td>\n",
              "      <td>8882.31</td>\n",
              "    </tr>\n",
              "    <tr>\n",
              "      <th>2</th>\n",
              "      <td>bmw</td>\n",
              "      <td>NaN</td>\n",
              "      <td>97676.0</td>\n",
              "      <td>2010.0</td>\n",
              "      <td>1995.0</td>\n",
              "      <td>85.0</td>\n",
              "      <td>NaN</td>\n",
              "      <td>man</td>\n",
              "      <td>5</td>\n",
              "      <td>5</td>\n",
              "      <td>12065.06</td>\n",
              "    </tr>\n",
              "    <tr>\n",
              "      <th>3</th>\n",
              "      <td>skoda</td>\n",
              "      <td>fabia</td>\n",
              "      <td>111970.0</td>\n",
              "      <td>2004.0</td>\n",
              "      <td>1200.0</td>\n",
              "      <td>47.0</td>\n",
              "      <td>NaN</td>\n",
              "      <td>man</td>\n",
              "      <td>5</td>\n",
              "      <td>5</td>\n",
              "      <td>2960.77</td>\n",
              "    </tr>\n",
              "    <tr>\n",
              "      <th>4</th>\n",
              "      <td>skoda</td>\n",
              "      <td>fabia</td>\n",
              "      <td>128886.0</td>\n",
              "      <td>2004.0</td>\n",
              "      <td>1200.0</td>\n",
              "      <td>47.0</td>\n",
              "      <td>NaN</td>\n",
              "      <td>man</td>\n",
              "      <td>5</td>\n",
              "      <td>5</td>\n",
              "      <td>2738.71</td>\n",
              "    </tr>\n",
              "  </tbody>\n",
              "</table>\n",
              "</div>"
            ],
            "text/plain": [
              "   maker    model   mileage  ...  door_count  seat_count  price_eur\n",
              "0   ford   galaxy  151000.0  ...           5           7   10584.75\n",
              "1  skoda  octavia  143476.0  ...           5           5    8882.31\n",
              "2    bmw      NaN   97676.0  ...           5           5   12065.06\n",
              "3  skoda    fabia  111970.0  ...           5           5    2960.77\n",
              "4  skoda    fabia  128886.0  ...           5           5    2738.71\n",
              "\n",
              "[5 rows x 11 columns]"
            ]
          },
          "metadata": {
            "tags": []
          },
          "execution_count": 14
        }
      ]
    },
    {
      "cell_type": "markdown",
      "metadata": {
        "id": "5JwOvWyUqAUI"
      },
      "source": [
        "## Outlier handling"
      ]
    },
    {
      "cell_type": "code",
      "metadata": {
        "id": "HaqGkpKJW4Ef"
      },
      "source": [
        "new_data = data.copy()"
      ],
      "execution_count": 15,
      "outputs": []
    },
    {
      "cell_type": "markdown",
      "metadata": {
        "id": "BTVaei2aqX3t"
      },
      "source": [
        "### Mileage"
      ]
    },
    {
      "cell_type": "code",
      "metadata": {
        "colab": {
          "base_uri": "https://localhost:8080/",
          "height": 312
        },
        "id": "H7pWHx4KW4Eg",
        "outputId": "c9c6d74b-0ab6-4a72-fe8b-5d5d0a6c968c"
      },
      "source": [
        "#outlier detection in each numerical feature\n",
        "#mileage\n",
        "\n",
        "n, bins, patches = plt.hist(x=new_data['mileage'], bins='auto', color='#0504aa')\n",
        "plt.grid(axis='y', alpha=0.75)\n",
        "plt.xlabel('Value')\n",
        "plt.ylabel('Frequency')\n",
        "plt.ylim((None, 20000))\n",
        "plt.title('Mileage')\n"
      ],
      "execution_count": 16,
      "outputs": [
        {
          "output_type": "execute_result",
          "data": {
            "text/plain": [
              "Text(0.5, 1.0, 'Mileage')"
            ]
          },
          "metadata": {
            "tags": []
          },
          "execution_count": 16
        },
        {
          "output_type": "display_data",
          "data": {
            "image/png": "[encoded data removed]",
            "text/plain": [
              "<Figure size 432x288 with 1 Axes>"
            ]
          },
          "metadata": {
            "tags": [],
            "needs_background": "light"
          }
        }
      ]
    },
    {
      "cell_type": "code",
      "metadata": {
        "id": "XFL0K0SPW4Eg"
      },
      "source": [
        "new_data = new_data.drop(new_data[new_data['mileage']  <= 30].index)"
      ],
      "execution_count": 17,
      "outputs": []
    },
    {
      "cell_type": "markdown",
      "metadata": {
        "id": "hBuIDGkDqaGT"
      },
      "source": [
        "### Door and Seat Count"
      ]
    },
    {
      "cell_type": "code",
      "metadata": {
        "colab": {
          "base_uri": "https://localhost:8080/"
        },
        "id": "BtskL-YBW4Eg",
        "outputId": "0e89c794-264c-4d13-a4a2-4d62afb6dd9f"
      },
      "source": [
        "#door count and seat count\n",
        "print(\"Unique door count values:\",list(new_data['door_count'].unique()))\n",
        "print(\"Unique seat count values:\",list(new_data['seat_count'].unique()))"
      ],
      "execution_count": 18,
      "outputs": [
        {
          "output_type": "stream",
          "text": [
            "Unique door count values: ['5', '3', '4', 'None', '2', '6', '1', '7', nan, 5.0, 4.0, 3.0, 2.0, 6.0, 1.0, 9.0, 7.0, 8.0, 77.0, 58.0, 54.0, 0.0, 55.0, 22.0, 45.0, 49.0]\n",
            "Unique seat count values: ['7', '5', '4', 'None', '6', '9', '8', '2', '3', '1', '18', '20', '10', '11', '15', '12', '16', '14', '50', '17', '74', '65', '19', '54', '13', '27', '45', '24', '56', '22', '255', '23', '57', '25', nan, 5.0, 3.0, 4.0, 2.0, 7.0, 8.0, 6.0, 9.0, 23.0, 1.0, 51.0, 12.0, 15.0, 14.0, 55.0, 19.0, 61.0, 21.0, 13.0, 17.0, 20.0, 10.0, 11.0, 18.0, 45.0, 27.0, 53.0, 26.0, 56.0, 58.0, 25.0, 30.0, 36.0, 54.0, 24.0, 16.0, 57.0, 74.0, 50.0, 0.0, 29.0, 52.0, 44.0, 32.0, 512.0, 33.0, 515.0, 59.0, 85.0, 517.0, 81.0, 43.0, 49.0, 138.0]\n"
          ],
          "name": "stdout"
        }
      ]
    },
    {
      "cell_type": "code",
      "metadata": {
        "id": "n2VAoYbIW4Eh"
      },
      "source": [
        "#replacing strings for door_count and seat_count \n",
        "new_data['door_count'].replace('None', np.NaN, inplace=True)\n",
        "new_data['seat_count'].replace('None', np.NaN, inplace=True)"
      ],
      "execution_count": 19,
      "outputs": []
    },
    {
      "cell_type": "code",
      "metadata": {
        "colab": {
          "base_uri": "https://localhost:8080/"
        },
        "id": "IBUVmTByW4Eh",
        "outputId": "6b903633-adc9-40a8-a8f8-6a5d79f4c6ea"
      },
      "source": [
        "#door count and seat count\n",
        "print(\"Unique door count values:\",list(new_data['door_count'].unique()))\n",
        "print(\"Unique seat count values:\",list(new_data['seat_count'].unique()))"
      ],
      "execution_count": 20,
      "outputs": [
        {
          "output_type": "stream",
          "text": [
            "Unique door count values: ['5', '3', '4', nan, '2', '6', '1', '7', 5.0, 4.0, 3.0, 2.0, 6.0, 1.0, 9.0, 7.0, 8.0, 77.0, 58.0, 54.0, 0.0, 55.0, 22.0, 45.0, 49.0]\n",
            "Unique seat count values: ['7', '5', '4', nan, '6', '9', '8', '2', '3', '1', '18', '20', '10', '11', '15', '12', '16', '14', '50', '17', '74', '65', '19', '54', '13', '27', '45', '24', '56', '22', '255', '23', '57', '25', 5.0, 3.0, 4.0, 2.0, 7.0, 8.0, 6.0, 9.0, 23.0, 1.0, 51.0, 12.0, 15.0, 14.0, 55.0, 19.0, 61.0, 21.0, 13.0, 17.0, 20.0, 10.0, 11.0, 18.0, 45.0, 27.0, 53.0, 26.0, 56.0, 58.0, 25.0, 30.0, 36.0, 54.0, 24.0, 16.0, 57.0, 74.0, 50.0, 0.0, 29.0, 52.0, 44.0, 32.0, 512.0, 33.0, 515.0, 59.0, 85.0, 517.0, 81.0, 43.0, 49.0, 138.0]\n"
          ],
          "name": "stdout"
        }
      ]
    },
    {
      "cell_type": "code",
      "metadata": {
        "id": "1hOrcIjbW4Eh"
      },
      "source": [
        "#converting string to float\n",
        "new_data['door_count'] = new_data['door_count'].astype(float)\n",
        "new_data['seat_count'] = new_data['seat_count'].astype(float)"
      ],
      "execution_count": 21,
      "outputs": []
    },
    {
      "cell_type": "code",
      "metadata": {
        "colab": {
          "base_uri": "https://localhost:8080/"
        },
        "id": "R48AW17DW4Ei",
        "outputId": "7f47101f-8c90-4a13-e781-6bafb696037a"
      },
      "source": [
        "#door count and seat count\n",
        "print(\"Unique door count values:\",list(new_data['door_count'].unique()))\n",
        "print(\"Unique seat count values:\",list(new_data['seat_count'].unique()))"
      ],
      "execution_count": 22,
      "outputs": [
        {
          "output_type": "stream",
          "text": [
            "Unique door count values: [5.0, 3.0, 4.0, nan, 2.0, 6.0, 1.0, 7.0, 9.0, 8.0, 77.0, 58.0, 54.0, 0.0, 55.0, 22.0, 45.0, 49.0]\n",
            "Unique seat count values: [7.0, 5.0, 4.0, nan, 6.0, 9.0, 8.0, 2.0, 3.0, 1.0, 18.0, 20.0, 10.0, 11.0, 15.0, 12.0, 16.0, 14.0, 50.0, 17.0, 74.0, 65.0, 19.0, 54.0, 13.0, 27.0, 45.0, 24.0, 56.0, 22.0, 255.0, 23.0, 57.0, 25.0, 51.0, 55.0, 61.0, 21.0, 53.0, 26.0, 58.0, 30.0, 36.0, 0.0, 29.0, 52.0, 44.0, 32.0, 512.0, 33.0, 515.0, 59.0, 85.0, 517.0, 81.0, 43.0, 49.0, 138.0]\n"
          ],
          "name": "stdout"
        }
      ]
    },
    {
      "cell_type": "code",
      "metadata": {
        "id": "Sia9GfqNW4Ei"
      },
      "source": [
        "#removing rows with door count>10 and seat_count>25\n",
        "new_data = new_data.drop(new_data[new_data['door_count']  > 10].index)\n",
        "new_data = new_data.drop(new_data[new_data['seat_count']  > 25].index)"
      ],
      "execution_count": 23,
      "outputs": []
    },
    {
      "cell_type": "markdown",
      "metadata": {
        "id": "s9CPHaZwqebM"
      },
      "source": [
        "### Manufacture Year"
      ]
    },
    {
      "cell_type": "code",
      "metadata": {
        "colab": {
          "base_uri": "https://localhost:8080/",
          "height": 312
        },
        "id": "nfW7A7d0W4Ei",
        "outputId": "b3da1b5c-44ed-46da-96b1-0203db924c26"
      },
      "source": [
        "n, bins, patches = plt.hist(x=new_data['manufacture_year'], bins='auto', color='#0504aa')\n",
        "plt.grid(axis='y', alpha=0.75)\n",
        "plt.xlabel('Value')\n",
        "plt.ylabel('Frequency')\n",
        "plt.ylim((None, 1000))\n",
        "plt.title('Manufacture_year')"
      ],
      "execution_count": 24,
      "outputs": [
        {
          "output_type": "execute_result",
          "data": {
            "text/plain": [
              "Text(0.5, 1.0, 'Manufacture_year')"
            ]
          },
          "metadata": {
            "tags": []
          },
          "execution_count": 24
        },
        {
          "output_type": "display_data",
          "data": {
            "image/png": "[encoded data removed]",
            "text/plain": [
              "<Figure size 432x288 with 1 Axes>"
            ]
          },
          "metadata": {
            "tags": [],
            "needs_background": "light"
          }
        }
      ]
    },
    {
      "cell_type": "code",
      "metadata": {
        "id": "7xLW_bdeW4Ej"
      },
      "source": [
        "#removing rows with manufacture_year earlier than 1500\n",
        "new_data = new_data.drop(new_data[new_data['manufacture_year']  < 1500].index)"
      ],
      "execution_count": 25,
      "outputs": []
    },
    {
      "cell_type": "code",
      "metadata": {
        "colab": {
          "base_uri": "https://localhost:8080/"
        },
        "id": "XlW-vIcmW4Ej",
        "outputId": "59d4e4df-5d0f-4ccd-a967-d24f0cdf6310"
      },
      "source": [
        "new_data.shape"
      ],
      "execution_count": 26,
      "outputs": [
        {
          "output_type": "execute_result",
          "data": {
            "text/plain": [
              "(3152323, 11)"
            ]
          },
          "metadata": {
            "tags": []
          },
          "execution_count": 26
        }
      ]
    },
    {
      "cell_type": "code",
      "metadata": {
        "colab": {
          "base_uri": "https://localhost:8080/"
        },
        "id": "sNtmkJH1fNz8",
        "outputId": "e5f437fa-b971-4531-a072-c80f32fa5de5"
      },
      "source": [
        "new_data['price_eur'].value_counts(bins=25, sort=False)"
      ],
      "execution_count": 27,
      "outputs": [
        {
          "output_type": "execute_result",
          "data": {
            "text/plain": [
              "(-2706149053.025, 108245962122.614]       3152320\n",
              "(108245962122.614, 216491924245.189]            0\n",
              "(216491924245.189, 324737886367.763]            1\n",
              "(324737886367.763, 432983848490.338]            0\n",
              "(432983848490.338, 541229810612.912]            0\n",
              "(541229810612.912, 649475772735.486]            0\n",
              "(649475772735.486, 757721734858.061]            0\n",
              "(757721734858.061, 865967696980.635]            0\n",
              "(865967696980.635, 974213659103.21]             0\n",
              "(974213659103.21, 1082459621225.784]            0\n",
              "(1082459621225.784, 1190705583348.358]          0\n",
              "(1190705583348.358, 1298951545470.933]          0\n",
              "(1298951545470.933, 1407197507593.507]          0\n",
              "(1407197507593.507, 1515443469716.082]          0\n",
              "(1515443469716.082, 1623689431838.656]          0\n",
              "(1623689431838.656, 1731935393961.23]           0\n",
              "(1731935393961.23, 1840181356083.805]           0\n",
              "(1840181356083.805, 1948427318206.38]           0\n",
              "(1948427318206.38, 2056673280328.954]           0\n",
              "(2056673280328.954, 2164919242451.528]          0\n",
              "(2164919242451.528, 2273165204574.102]          0\n",
              "(2273165204574.102, 2381411166696.677]          0\n",
              "(2381411166696.677, 2489657128819.252]          0\n",
              "(2489657128819.252, 2597903090941.826]          0\n",
              "(2597903090941.826, 2706149053064.4]            2\n",
              "Name: price_eur, dtype: int64"
            ]
          },
          "metadata": {
            "tags": []
          },
          "execution_count": 27
        }
      ]
    },
    {
      "cell_type": "code",
      "metadata": {
        "id": "BuOsltn_hoFp"
      },
      "source": [
        "new_data = new_data.drop(new_data[new_data['price_eur']  >= 400000].index)\n",
        "new_data = new_data.drop(new_data[new_data['price_eur']  <=0].index)"
      ],
      "execution_count": 28,
      "outputs": []
    },
    {
      "cell_type": "code",
      "metadata": {
        "colab": {
          "base_uri": "https://localhost:8080/"
        },
        "id": "iJQ3wpt_jJqG",
        "outputId": "1a837f91-471b-45da-8eba-4a9c19e3848d"
      },
      "source": [
        "new_data['price_eur'].value_counts(bins=25, sort=False)"
      ],
      "execution_count": 29,
      "outputs": [
        {
          "output_type": "execute_result",
          "data": {
            "text/plain": [
              "(-399.95799999999997, 15999.918]    2480795\n",
              "(15999.918, 31999.797]               508976\n",
              "(31999.797, 47999.675]               102779\n",
              "(47999.675, 63999.554]                27950\n",
              "(63999.554, 79999.432]                14005\n",
              "(79999.432, 95999.31]                  5827\n",
              "(95999.31, 111999.189]                 3282\n",
              "(111999.189, 127999.067]               1963\n",
              "(127999.067, 143998.946]               1378\n",
              "(143998.946, 159998.824]               1047\n",
              "(159998.824, 175998.702]                617\n",
              "(175998.702, 191998.581]                665\n",
              "(191998.581, 207998.459]                443\n",
              "(207998.459, 223998.338]                331\n",
              "(223998.338, 239998.216]                273\n",
              "(239998.216, 255998.094]                195\n",
              "(255998.094, 271997.973]                136\n",
              "(271997.973, 287997.851]                141\n",
              "(287997.851, 303997.73]                 130\n",
              "(303997.73, 319997.608]                  48\n",
              "(319997.608, 335997.486]                 70\n",
              "(335997.486, 351997.365]                 69\n",
              "(351997.365, 367997.243]                 45\n",
              "(367997.243, 383997.122]                 43\n",
              "(383997.122, 399997.0]                   61\n",
              "Name: price_eur, dtype: int64"
            ]
          },
          "metadata": {
            "tags": []
          },
          "execution_count": 29
        }
      ]
    },
    {
      "cell_type": "code",
      "metadata": {
        "colab": {
          "base_uri": "https://localhost:8080/",
          "height": 623
        },
        "id": "hUdj95yUdUJ1",
        "outputId": "7daa99cc-b658-40c7-8724-c0d3e786a819"
      },
      "source": [
        "y = new_data['price_eur']\n",
        "\n",
        "fig_dims = (20, 10)\n",
        "fig, ax = plt.subplots(figsize=fig_dims)\n",
        "\n",
        "sns.distplot(y)"
      ],
      "execution_count": 30,
      "outputs": [
        {
          "output_type": "execute_result",
          "data": {
            "text/plain": [
              "<matplotlib.axes._subplots.AxesSubplot at 0x7f7cfd3c0940>"
            ]
          },
          "metadata": {
            "tags": []
          },
          "execution_count": 30
        },
        {
          "output_type": "display_data",
          "data": {
            "image/png": "[encoded data removed]",
            "text/plain": [
              "<Figure size 1440x720 with 1 Axes>"
            ]
          },
          "metadata": {
            "tags": [],
            "needs_background": "light"
          }
        }
      ]
    },
    {
      "cell_type": "markdown",
      "metadata": {
        "id": "BieeWgqQqmCV"
      },
      "source": [
        "## Missing value Handling"
      ]
    },
    {
      "cell_type": "code",
      "metadata": {
        "id": "sqLI13nrW4Ek"
      },
      "source": [
        "#replacing NaN with average value for numerical variables\n",
        "new_data['mileage'].fillna((new_data['mileage'].mean()), inplace=True)\n",
        "new_data['engine_displacement'].fillna((new_data['engine_displacement'].mean()), inplace=True)\n",
        "new_data['engine_power'].fillna((new_data['engine_power'].mean()), inplace=True)\n",
        "new_data['door_count'].fillna((new_data['door_count'].mean()), inplace=True)\n",
        "new_data['seat_count'].fillna((new_data['seat_count'].mean()), inplace=True)\n",
        "\n",
        "#replacing NaN with most frequent values in object variables\n",
        "new_data['manufacture_year'].fillna(new_data['manufacture_year'].value_counts().index[0], inplace=True)\n",
        "new_data['body_type'].fillna(new_data['body_type'].value_counts().index[0], inplace=True)\n",
        "new_data['transmission'].fillna(new_data['transmission'].value_counts().index[0], inplace=True)\n",
        "new_data['model'].fillna(new_data['model'].value_counts().index[0], inplace=True)\n",
        "new_data['maker'].fillna(new_data['maker'].value_counts().index[0], inplace=True)"
      ],
      "execution_count": 31,
      "outputs": []
    },
    {
      "cell_type": "code",
      "metadata": {
        "colab": {
          "base_uri": "https://localhost:8080/"
        },
        "id": "K1k7jhmkW4El",
        "outputId": "d875c8a1-d488-45a8-f3ff-198caf4bd4f9"
      },
      "source": [
        "new_data.isnull().sum()"
      ],
      "execution_count": 32,
      "outputs": [
        {
          "output_type": "execute_result",
          "data": {
            "text/plain": [
              "maker                  0\n",
              "model                  0\n",
              "mileage                0\n",
              "manufacture_year       0\n",
              "engine_displacement    0\n",
              "engine_power           0\n",
              "body_type              0\n",
              "transmission           0\n",
              "door_count             0\n",
              "seat_count             0\n",
              "price_eur              0\n",
              "dtype: int64"
            ]
          },
          "metadata": {
            "tags": []
          },
          "execution_count": 32
        }
      ]
    },
    {
      "cell_type": "markdown",
      "metadata": {
        "id": "2ZRXQEJkqryW"
      },
      "source": [
        "## Data Analysis"
      ]
    },
    {
      "cell_type": "markdown",
      "metadata": {
        "id": "EaGP6bqWq_Sm"
      },
      "source": [
        "### Scatter pair plot"
      ]
    },
    {
      "cell_type": "code",
      "metadata": {
        "colab": {
          "base_uri": "https://localhost:8080/",
          "height": 200
        },
        "id": "Im1cW7sjjy8m",
        "outputId": "828a72d9-af86-4ec9-97bc-01ddf49aee93"
      },
      "source": [
        "sns.pairplot(new_data, y_vars=\"price_eur\", x_vars=new_data.columns.values)"
      ],
      "execution_count": 33,
      "outputs": [
        {
          "output_type": "execute_result",
          "data": {
            "text/plain": [
              "<seaborn.axisgrid.PairGrid at 0x7f7cfd103c50>"
            ]
          },
          "metadata": {
            "tags": []
          },
          "execution_count": 33
        },
        {
          "output_type": "display_data",
          "data": {
            "image/png": "[encoded data removed]",
            "text/plain": [
              "<Figure size 1980x180 with 12 Axes>"
            ]
          },
          "metadata": {
            "tags": [],
            "needs_background": "light"
          }
        }
      ]
    },
    {
      "cell_type": "markdown",
      "metadata": {
        "id": "6x4ihSQLrDJF"
      },
      "source": [
        "### Correlation Plot"
      ]
    },
    {
      "cell_type": "code",
      "metadata": {
        "colab": {
          "base_uri": "https://localhost:8080/",
          "height": 613
        },
        "id": "vCrB_oS_eENy",
        "outputId": "3c869404-ec3d-4031-a0e6-731305753ef9"
      },
      "source": [
        "corr = new_data.corr()\n",
        "fig_dims = (20, 10)\n",
        "fig, ax = plt.subplots(figsize=fig_dims)\n",
        "\n",
        "sns.heatmap(corr, annot=True)"
      ],
      "execution_count": 34,
      "outputs": [
        {
          "output_type": "execute_result",
          "data": {
            "text/plain": [
              "<matplotlib.axes._subplots.AxesSubplot at 0x7f7cfc59a208>"
            ]
          },
          "metadata": {
            "tags": []
          },
          "execution_count": 34
        },
        {
          "output_type": "display_data",
          "data": {
            "image/png": "[encoded data removed]",
            "text/plain": [
              "<Figure size 1440x720 with 2 Axes>"
            ]
          },
          "metadata": {
            "tags": [],
            "needs_background": "light"
          }
        }
      ]
    },
    {
      "cell_type": "code",
      "metadata": {
        "id": "B_SC7tiAgDJB"
      },
      "source": [],
      "execution_count": 34,
      "outputs": []
    }
  ]
}
